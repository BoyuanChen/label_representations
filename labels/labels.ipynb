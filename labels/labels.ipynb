{
 "cells": [
  {
   "cell_type": "markdown",
   "metadata": {},
   "source": [
    "# Random"
   ]
  },
  {
   "cell_type": "markdown",
   "metadata": {},
   "source": [
    "# Generate high-dimensional labels\n",
    "\n",
    "Use this notebook to generate high-dimensional labels and save them in .npy files. "
   ]
  },
  {
   "cell_type": "markdown",
   "metadata": {},
   "source": [
    "## Speech "
   ]
  },
  {
   "cell_type": "code",
   "execution_count": 1,
   "metadata": {},
   "outputs": [
    {
     "name": "stdout",
     "output_type": "stream",
     "text": [
      "librosa version is 0.8.1\n"
     ]
    }
   ],
   "source": [
    "#!pip install git+https://github.com/librosa/librosa\n",
    "from skimage.transform import resize\n",
    "import numpy as np\n",
    "import librosa\n",
    "import librosa.display\n",
    "# The paper uses librosa version 0.7.1.\n",
    "print('librosa version is', librosa.version.version)"
   ]
  },
  {
   "cell_type": "code",
   "execution_count": 4,
   "metadata": {},
   "outputs": [],
   "source": [
    "audio_files = ['0cmf2|Airplane', '0k4j|Car', '015p6|Bird', '01yrx|Cat', '09kx5|Deer', '0bt9lr|Dog', '09ld4|Frog', '03k3r|Horse', '06q74|Ship', '07r04|Truck']\n",
    "mels = np.ndarray(shape=(10, 64, 64), dtype='float32')\n",
    "for i in range(10):\n",
    "    y, sr = librosa.load('cifar10_wav/{}.wav'.format(audio_files[i]), sr=22050)\n",
    "    # trim silent edges\n",
    "    y, _ = librosa.effects.trim(y)\n",
    "    mel = librosa.feature.melspectrogram(y=y, sr=sr, hop_length=256, n_mels=64, fmax=8000)\n",
    "    mel = librosa.power_to_db(mel, ref=np.max)\n",
    "    mel = resize(mel, (64, 64))\n",
    "    mels[i] = mel"
   ]
  },
  {
   "cell_type": "code",
   "execution_count": null,
   "metadata": {},
   "outputs": [],
   "source": [
    "np.save('cifar10_speech', mels)"
   ]
  },
  {
   "cell_type": "code",
   "execution_count": null,
   "metadata": {},
   "outputs": [],
   "source": [
    "mels = np.ndarray(shape=(100, 64, 64), dtype='float32')\n",
    "for i in range(100):\n",
    "    y, sr = librosa.load('cifar100_wav/{}.wav'.format(i), sr=22050)\n",
    "    # trim silent edges\n",
    "    y, _ = librosa.effects.trim(y)\n",
    "    mel = librosa.feature.melspectrogram(y=y, sr=sr, hop_length=256, n_mels=64, fmax=8000)\n",
    "    mel = librosa.power_to_db(mel, ref=np.max)\n",
    "    mel = resize(mel, (64, 64))\n",
    "    mels[i] = mel"
   ]
  },
  {
   "cell_type": "code",
   "execution_count": null,
   "metadata": {},
   "outputs": [],
   "source": [
    "np.save('cifar100_speech', mels)"
   ]
  },
  {
   "cell_type": "markdown",
   "metadata": {},
   "source": [
    "### New Labels"
   ]
  },
  {
   "cell_type": "code",
   "execution_count": 5,
   "metadata": {},
   "outputs": [],
   "source": [
    "audio_files = ['0cmf2|Airplane', '0k4j|Car', '015p6|Bird', '01yrx|Cat', '09kx5|Deer', '0bt9lr|Dog', '09ld4|Frog', '03k3r|Horse', '06q74|Ship', '07r04|Truck']\n",
    "mels = np.ndarray(shape=(10, 64, 64), dtype='float32')\n",
    "for i in range(10):\n",
    "    y, sr = librosa.load('chantel_wav/{}.wav'.format(audio_files[i]), sr=22050)\n",
    "    # trim silent edges\n",
    "    y, _ = librosa.effects.trim(y)\n",
    "    mel = librosa.feature.melspectrogram(y=y, sr=sr, hop_length=256, n_mels=64, fmax=8000)\n",
    "    mel = librosa.power_to_db(mel, ref=np.max)\n",
    "    mel = resize(mel, (64, 64))\n",
    "    mels[i] = mel\n",
    "    \n",
    "np.save('label_files/chantel/cifar10_speech', mels)"
   ]
  },
  {
   "cell_type": "code",
   "execution_count": 5,
   "metadata": {},
   "outputs": [],
   "source": [
    "audio_files = ['0cmf2|Airplane', '0k4j|Car', '015p6|Bird', '01yrx|Cat', '09kx5|Deer', '0bt9lr|Dog', '09ld4|Frog', '03k3r|Horse', '06q74|Ship', '07r04|Truck']\n",
    "mels = np.ndarray(shape=(10, 64, 64), dtype='float32')\n",
    "for i in range(10):\n",
    "    y, sr = librosa.load('french_wav/{}.wav'.format(audio_files[i]), sr=22050)\n",
    "    # trim silent edges\n",
    "    y, _ = librosa.effects.trim(y)\n",
    "    mel = librosa.feature.melspectrogram(y=y, sr=sr, hop_length=256, n_mels=64, fmax=8000)\n",
    "    mel = librosa.power_to_db(mel, ref=np.max)\n",
    "    mel = resize(mel, (64, 64))\n",
    "    mels[i] = mel\n",
    "    \n",
    "np.save('label_files/french/cifar10_speech', mels)"
   ]
  },
  {
   "cell_type": "markdown",
   "metadata": {},
   "source": [
    "## Shuffle"
   ]
  },
  {
   "cell_type": "code",
   "execution_count": null,
   "metadata": {},
   "outputs": [],
   "source": [
    "def shuffleSlices(num_slices):\n",
    "    slice_idx = np.arange(num_slices)\n",
    "    while np.array_equal(slice_idx, np.arange(num_slices)):\n",
    "        np.random.shuffle(slice_idx)\n",
    "    if 64 % num_slices == 0:\n",
    "        slice_size = 64 // num_slices\n",
    "    else:\n",
    "        slice_size = 64 // (num_slices - 1)\n",
    "    shuffle_slices = []\n",
    "    for i in slice_idx:\n",
    "        start = i * slice_size\n",
    "        end = min(64, start + slice_size)\n",
    "        shuffle_slices.extend(range(start, end))\n",
    "    return shuffle_slices\n",
    "shuffle_seed = 8\n",
    "num_slices = 64"
   ]
  },
  {
   "cell_type": "code",
   "execution_count": null,
   "metadata": {},
   "outputs": [],
   "source": [
    "audio_files = ['0cmf2|Airplane', '0k4j|Car', '015p6|Bird', '01yrx|Cat', '09kx5|Deer', '0bt9lr|Dog', '09ld4|Frog', '03k3r|Horse', '06q74|Ship', '07r04|Truck']\n",
    "mels = np.ndarray(shape=(10, 64, 64), dtype='float32')\n",
    "np.random.seed(shuffle_seed)\n",
    "for i in range(10):\n",
    "    y, sr = librosa.load('cifar10_wav/{}.wav'.format(audio_files[i]), sr=22050)\n",
    "    # trim silent edges\n",
    "    y, _ = librosa.effects.trim(y)\n",
    "    mel = librosa.feature.melspectrogram(y=y, sr=sr, hop_length=256, n_mels=64, fmax=8000)\n",
    "    mel = librosa.power_to_db(mel, ref=np.max)\n",
    "    mel = resize(mel, (64, 64))\n",
    "    # shuffle (column wise)\n",
    "    mels[i] = mel[:, shuffleSlices(num_slices)]"
   ]
  },
  {
   "cell_type": "code",
   "execution_count": null,
   "metadata": {},
   "outputs": [],
   "source": [
    "np.save('cifar10_shuffle', mels)"
   ]
  },
  {
   "cell_type": "code",
   "execution_count": null,
   "metadata": {},
   "outputs": [],
   "source": [
    "mels = np.ndarray(shape=(100, 64, 64), dtype='float32')\n",
    "np.random.seed(shuffle_seed)\n",
    "for i in range(100):\n",
    "    y, sr = librosa.load('cifar100_wav/{}.wav'.format(i), sr=22050)\n",
    "    # trim silent edges\n",
    "    y, _ = librosa.effects.trim(y)\n",
    "    mel = librosa.feature.melspectrogram(y=y, sr=sr, hop_length=256, n_mels=64, fmax=8000)\n",
    "    mel = librosa.power_to_db(mel, ref=np.max)\n",
    "    mel = resize(mel, (64, 64))\n",
    "    # shuffle (column wise)\n",
    "    mels[i] = mel[:, shuffleSlices(num_slices)]"
   ]
  },
  {
   "cell_type": "code",
   "execution_count": null,
   "metadata": {},
   "outputs": [],
   "source": [
    "np.save('cifar100_shuffle', mels)"
   ]
  },
  {
   "cell_type": "code",
   "execution_count": null,
   "metadata": {},
   "outputs": [],
   "source": [
    "mels = np.ndarray(shape=(10, 64, 64), dtype='float32')\n",
    "np.random.seed(shuffle_seed)\n",
    "for i in range(10):\n",
    "    y, sr = librosa.load('chantel_wav/{}.wav'.format(audio_files[i]), sr=22050)\n",
    "    # trim silent edges\n",
    "    y, _ = librosa.effects.trim(y)\n",
    "    mel = librosa.feature.melspectrogram(y=y, sr=sr, hop_length=256, n_mels=64, fmax=8000)\n",
    "    mel = librosa.power_to_db(mel, ref=np.max)\n",
    "    mel = resize(mel, (64, 64))\n",
    "    # shuffle (column wise)\n",
    "    mels[i] = mel[:, shuffleSlices(num_slices)]"
   ]
  },
  {
   "cell_type": "code",
   "execution_count": null,
   "metadata": {},
   "outputs": [],
   "source": [
    "np.save('chantel_shuffle', mels)"
   ]
  },
  {
   "cell_type": "markdown",
   "metadata": {},
   "source": [
    "## Uniform"
   ]
  },
  {
   "cell_type": "code",
   "execution_count": null,
   "metadata": {},
   "outputs": [],
   "source": [
    "mels = np.ones((10, 64, 64), dtype='float32')\n",
    "for i in range(10):\n",
    "    mels[i] = mels[i] * i * 80 / 9\n",
    "np.save('cifar10_uniform', mels)"
   ]
  },
  {
   "cell_type": "code",
   "execution_count": null,
   "metadata": {},
   "outputs": [],
   "source": [
    "mels = np.ones((100, 64, 64), dtype='float32')\n",
    "for i in range(100):\n",
    "    mels[i] = mels[i] * i * 80 / 99\n",
    "np.save('cifar100_uniform', mels)"
   ]
  },
  {
   "cell_type": "code",
   "execution_count": null,
   "metadata": {},
   "outputs": [],
   "source": [
    "mels = np.ones((10, 64, 64), dtype='float32')\n",
    "for i in range(10):\n",
    "    mels[i] = mels[i] * i * 80 / 9\n",
    "np.save('chantel_uniform', mels)"
   ]
  },
  {
   "cell_type": "code",
   "execution_count": 9,
   "metadata": {},
   "outputs": [
    {
     "name": "stdout",
     "output_type": "stream",
     "text": [
      "[[[ 0.          0.          0.         ...  0.          0.\n",
      "    0.        ]\n",
      "  [ 0.          0.          0.         ...  0.          0.\n",
      "    0.        ]\n",
      "  [ 0.          0.          0.         ...  0.          0.\n",
      "    0.        ]\n",
      "  ...\n",
      "  [ 0.          0.          0.         ...  0.          0.\n",
      "    0.        ]\n",
      "  [ 0.          0.          0.         ...  0.          0.\n",
      "    0.        ]\n",
      "  [ 0.          0.          0.         ...  0.          0.\n",
      "    0.        ]]\n",
      "\n",
      " [[ 0.40201005  0.40201005  0.40201005 ...  0.40201005  0.40201005\n",
      "    0.40201005]\n",
      "  [ 0.40201005  0.40201005  0.40201005 ...  0.40201005  0.40201005\n",
      "    0.40201005]\n",
      "  [ 0.40201005  0.40201005  0.40201005 ...  0.40201005  0.40201005\n",
      "    0.40201005]\n",
      "  ...\n",
      "  [ 0.40201005  0.40201005  0.40201005 ...  0.40201005  0.40201005\n",
      "    0.40201005]\n",
      "  [ 0.40201005  0.40201005  0.40201005 ...  0.40201005  0.40201005\n",
      "    0.40201005]\n",
      "  [ 0.40201005  0.40201005  0.40201005 ...  0.40201005  0.40201005\n",
      "    0.40201005]]\n",
      "\n",
      " [[ 0.8040201   0.8040201   0.8040201  ...  0.8040201   0.8040201\n",
      "    0.8040201 ]\n",
      "  [ 0.8040201   0.8040201   0.8040201  ...  0.8040201   0.8040201\n",
      "    0.8040201 ]\n",
      "  [ 0.8040201   0.8040201   0.8040201  ...  0.8040201   0.8040201\n",
      "    0.8040201 ]\n",
      "  ...\n",
      "  [ 0.8040201   0.8040201   0.8040201  ...  0.8040201   0.8040201\n",
      "    0.8040201 ]\n",
      "  [ 0.8040201   0.8040201   0.8040201  ...  0.8040201   0.8040201\n",
      "    0.8040201 ]\n",
      "  [ 0.8040201   0.8040201   0.8040201  ...  0.8040201   0.8040201\n",
      "    0.8040201 ]]\n",
      "\n",
      " ...\n",
      "\n",
      " [[79.19598    79.19598    79.19598    ... 79.19598    79.19598\n",
      "   79.19598   ]\n",
      "  [79.19598    79.19598    79.19598    ... 79.19598    79.19598\n",
      "   79.19598   ]\n",
      "  [79.19598    79.19598    79.19598    ... 79.19598    79.19598\n",
      "   79.19598   ]\n",
      "  ...\n",
      "  [79.19598    79.19598    79.19598    ... 79.19598    79.19598\n",
      "   79.19598   ]\n",
      "  [79.19598    79.19598    79.19598    ... 79.19598    79.19598\n",
      "   79.19598   ]\n",
      "  [79.19598    79.19598    79.19598    ... 79.19598    79.19598\n",
      "   79.19598   ]]\n",
      "\n",
      " [[79.59799    79.59799    79.59799    ... 79.59799    79.59799\n",
      "   79.59799   ]\n",
      "  [79.59799    79.59799    79.59799    ... 79.59799    79.59799\n",
      "   79.59799   ]\n",
      "  [79.59799    79.59799    79.59799    ... 79.59799    79.59799\n",
      "   79.59799   ]\n",
      "  ...\n",
      "  [79.59799    79.59799    79.59799    ... 79.59799    79.59799\n",
      "   79.59799   ]\n",
      "  [79.59799    79.59799    79.59799    ... 79.59799    79.59799\n",
      "   79.59799   ]\n",
      "  [79.59799    79.59799    79.59799    ... 79.59799    79.59799\n",
      "   79.59799   ]]\n",
      "\n",
      " [[80.         80.         80.         ... 80.         80.\n",
      "   80.        ]\n",
      "  [80.         80.         80.         ... 80.         80.\n",
      "   80.        ]\n",
      "  [80.         80.         80.         ... 80.         80.\n",
      "   80.        ]\n",
      "  ...\n",
      "  [80.         80.         80.         ... 80.         80.\n",
      "   80.        ]\n",
      "  [80.         80.         80.         ... 80.         80.\n",
      "   80.        ]\n",
      "  [80.         80.         80.         ... 80.         80.\n",
      "   80.        ]]]\n"
     ]
    }
   ],
   "source": [
    "mels = np.ones((200, 64, 64), dtype='float32')\n",
    "for i in range(200):\n",
    "    mels[i] = mels[i] * i * 80 / 199\n",
    "print(mels)\n",
    "#np.save('tiny_imagenet_uniform', mels)"
   ]
  },
  {
   "cell_type": "markdown",
   "metadata": {},
   "source": [
    "## Composite"
   ]
  },
  {
   "cell_type": "code",
   "execution_count": 6,
   "metadata": {},
   "outputs": [
    {
     "name": "stderr",
     "output_type": "stream",
     "text": [
      "WARNING:param.ParameterizedMetaclass: Use method 'params' via param namespace \n"
     ]
    },
    {
     "ename": "TypeError",
     "evalue": "object of type <class 'float'> cannot be safely interpreted as an integer.",
     "output_type": "error",
     "traceback": [
      "\u001b[0;31m---------------------------------------------------------------------------\u001b[0m",
      "\u001b[0;31mTypeError\u001b[0m                                 Traceback (most recent call last)",
      "\u001b[0;32m~/opt/anaconda3/lib/python3.7/site-packages/numpy/core/function_base.py\u001b[0m in \u001b[0;36mlinspace\u001b[0;34m(start, stop, num, endpoint, retstep, dtype, axis)\u001b[0m\n\u001b[1;32m    116\u001b[0m     \u001b[0;32mtry\u001b[0m\u001b[0;34m:\u001b[0m\u001b[0;34m\u001b[0m\u001b[0;34m\u001b[0m\u001b[0m\n\u001b[0;32m--> 117\u001b[0;31m         \u001b[0mnum\u001b[0m \u001b[0;34m=\u001b[0m \u001b[0moperator\u001b[0m\u001b[0;34m.\u001b[0m\u001b[0mindex\u001b[0m\u001b[0;34m(\u001b[0m\u001b[0mnum\u001b[0m\u001b[0;34m)\u001b[0m\u001b[0;34m\u001b[0m\u001b[0;34m\u001b[0m\u001b[0m\n\u001b[0m\u001b[1;32m    118\u001b[0m     \u001b[0;32mexcept\u001b[0m \u001b[0mTypeError\u001b[0m\u001b[0;34m:\u001b[0m\u001b[0;34m\u001b[0m\u001b[0;34m\u001b[0m\u001b[0m\n",
      "\u001b[0;31mTypeError\u001b[0m: 'float' object cannot be interpreted as an integer",
      "\nDuring handling of the above exception, another exception occurred:\n",
      "\u001b[0;31mTypeError\u001b[0m                                 Traceback (most recent call last)",
      "\u001b[0;32m<ipython-input-6-17e94fac38ee>\u001b[0m in \u001b[0;36m<module>\u001b[0;34m\u001b[0m\n\u001b[1;32m      1\u001b[0m \u001b[0;32mimport\u001b[0m \u001b[0mnumpy\u001b[0m \u001b[0;32mas\u001b[0m \u001b[0mnp\u001b[0m\u001b[0;34m\u001b[0m\u001b[0;34m\u001b[0m\u001b[0m\n\u001b[1;32m      2\u001b[0m \u001b[0;32mimport\u001b[0m \u001b[0mparam\u001b[0m\u001b[0;34m\u001b[0m\u001b[0;34m\u001b[0m\u001b[0m\n\u001b[0;32m----> 3\u001b[0;31m \u001b[0;32mimport\u001b[0m \u001b[0mimagen\u001b[0m \u001b[0;32mas\u001b[0m \u001b[0mig\u001b[0m\u001b[0;34m\u001b[0m\u001b[0;34m\u001b[0m\u001b[0m\n\u001b[0m\u001b[1;32m      4\u001b[0m \u001b[0;32mimport\u001b[0m \u001b[0mnumbergen\u001b[0m \u001b[0;32mas\u001b[0m \u001b[0mng\u001b[0m\u001b[0;34m\u001b[0m\u001b[0;34m\u001b[0m\u001b[0m\n",
      "\u001b[0;32m~/opt/anaconda3/lib/python3.7/site-packages/imagen/__init__.py\u001b[0m in \u001b[0;36m<module>\u001b[0;34m\u001b[0m\n\u001b[1;32m   1334\u001b[0m \u001b[0;34m\u001b[0m\u001b[0m\n\u001b[1;32m   1335\u001b[0m \u001b[0;34m\u001b[0m\u001b[0m\n\u001b[0;32m-> 1336\u001b[0;31m \u001b[0;32mclass\u001b[0m \u001b[0mPowerSpectrum\u001b[0m\u001b[0;34m(\u001b[0m\u001b[0mPatternGenerator\u001b[0m\u001b[0;34m)\u001b[0m\u001b[0;34m:\u001b[0m\u001b[0;34m\u001b[0m\u001b[0;34m\u001b[0m\u001b[0m\n\u001b[0m\u001b[1;32m   1337\u001b[0m     \"\"\"\n\u001b[1;32m   1338\u001b[0m     \u001b[0mOutputs\u001b[0m \u001b[0mthe\u001b[0m \u001b[0mspectral\u001b[0m \u001b[0mdensity\u001b[0m \u001b[0mof\u001b[0m \u001b[0ma\u001b[0m \u001b[0mrolling\u001b[0m \u001b[0minterval\u001b[0m \u001b[0mof\u001b[0m \u001b[0mthe\u001b[0m \u001b[0minput\u001b[0m\u001b[0;34m\u001b[0m\u001b[0;34m\u001b[0m\u001b[0m\n",
      "\u001b[0;32m~/opt/anaconda3/lib/python3.7/site-packages/imagen/__init__.py\u001b[0m in \u001b[0;36mPowerSpectrum\u001b[0;34m()\u001b[0m\n\u001b[1;32m   1352\u001b[0m         up hiss and other background interference.\"\"\")\n\u001b[1;32m   1353\u001b[0m \u001b[0;34m\u001b[0m\u001b[0m\n\u001b[0;32m-> 1354\u001b[0;31m     signal = TimeSeriesParam(default=TimeSeries(time_series=generate_sine_wave(0.1,5000,20000), sample_rate=20000),\n\u001b[0m\u001b[1;32m   1355\u001b[0m         doc=\"\"\"A TimeSeries object on which to perfom the Fourier Transform.\"\"\")\n\u001b[1;32m   1356\u001b[0m \u001b[0;34m\u001b[0m\u001b[0m\n",
      "\u001b[0;32m~/opt/anaconda3/lib/python3.7/site-packages/imagen/__init__.py\u001b[0m in \u001b[0;36mgenerate_sine_wave\u001b[0;34m(duration, frequency, sample_rate)\u001b[0m\n\u001b[1;32m   1319\u001b[0m \u001b[0;34m\u001b[0m\u001b[0m\n\u001b[1;32m   1320\u001b[0m \u001b[0;32mdef\u001b[0m \u001b[0mgenerate_sine_wave\u001b[0m\u001b[0;34m(\u001b[0m\u001b[0mduration\u001b[0m\u001b[0;34m,\u001b[0m \u001b[0mfrequency\u001b[0m\u001b[0;34m,\u001b[0m \u001b[0msample_rate\u001b[0m\u001b[0;34m)\u001b[0m\u001b[0;34m:\u001b[0m\u001b[0;34m\u001b[0m\u001b[0;34m\u001b[0m\u001b[0m\n\u001b[0;32m-> 1321\u001b[0;31m     \u001b[0mtime_axis\u001b[0m \u001b[0;34m=\u001b[0m \u001b[0mnp\u001b[0m\u001b[0;34m.\u001b[0m\u001b[0mlinspace\u001b[0m\u001b[0;34m(\u001b[0m\u001b[0;36m0.0\u001b[0m\u001b[0;34m,\u001b[0m \u001b[0mduration\u001b[0m\u001b[0;34m,\u001b[0m \u001b[0mduration\u001b[0m\u001b[0;34m*\u001b[0m\u001b[0msample_rate\u001b[0m\u001b[0;34m)\u001b[0m\u001b[0;34m\u001b[0m\u001b[0;34m\u001b[0m\u001b[0m\n\u001b[0m\u001b[1;32m   1322\u001b[0m     \u001b[0;32mreturn\u001b[0m \u001b[0mnp\u001b[0m\u001b[0;34m.\u001b[0m\u001b[0msin\u001b[0m\u001b[0;34m(\u001b[0m\u001b[0;36m2.0\u001b[0m\u001b[0;34m*\u001b[0m\u001b[0mpi\u001b[0m\u001b[0;34m*\u001b[0m\u001b[0mfrequency\u001b[0m \u001b[0;34m*\u001b[0m \u001b[0mtime_axis\u001b[0m\u001b[0;34m)\u001b[0m\u001b[0;34m\u001b[0m\u001b[0;34m\u001b[0m\u001b[0m\n\u001b[1;32m   1323\u001b[0m \u001b[0;34m\u001b[0m\u001b[0m\n",
      "\u001b[0;32m<__array_function__ internals>\u001b[0m in \u001b[0;36mlinspace\u001b[0;34m(*args, **kwargs)\u001b[0m\n",
      "\u001b[0;32m~/opt/anaconda3/lib/python3.7/site-packages/numpy/core/function_base.py\u001b[0m in \u001b[0;36mlinspace\u001b[0;34m(start, stop, num, endpoint, retstep, dtype, axis)\u001b[0m\n\u001b[1;32m    119\u001b[0m         raise TypeError(\n\u001b[1;32m    120\u001b[0m             \u001b[0;34m\"object of type {} cannot be safely interpreted as an integer.\"\u001b[0m\u001b[0;34m\u001b[0m\u001b[0;34m\u001b[0m\u001b[0m\n\u001b[0;32m--> 121\u001b[0;31m                 .format(type(num)))\n\u001b[0m\u001b[1;32m    122\u001b[0m \u001b[0;34m\u001b[0m\u001b[0m\n\u001b[1;32m    123\u001b[0m     \u001b[0;32mif\u001b[0m \u001b[0mnum\u001b[0m \u001b[0;34m<\u001b[0m \u001b[0;36m0\u001b[0m\u001b[0;34m:\u001b[0m\u001b[0;34m\u001b[0m\u001b[0;34m\u001b[0m\u001b[0m\n",
      "\u001b[0;31mTypeError\u001b[0m: object of type <class 'float'> cannot be safely interpreted as an integer."
     ]
    }
   ],
   "source": [
    "import numpy as np\n",
    "import param\n",
    "import imagen as ig\n",
    "import numbergen as ng"
   ]
  },
  {
   "cell_type": "code",
   "execution_count": null,
   "metadata": {},
   "outputs": [],
   "source": [
    "# sum 10 oriented Gaussian patterns,\n",
    "# each with random positions and orientations,\n",
    "# giving a different overall pattern at each time\n",
    "param.Dynamic.time_dependent=False\n",
    "%opts Image (cmap='gray')\n",
    "gs = ig.Composite(operator=np.add,\n",
    "                  generators=[ig.Gaussian(size=0.15,\n",
    "                                          x=ng.UniformRandom(seed=i+1)-0.5,\n",
    "                                          y=ng.UniformRandom(seed=i+2)-0.5,\n",
    "                                          orientation=np.pi*ng.UniformRandom(seed=i+3))\n",
    "                                for i in range(10)])\n",
    "labels = [gs() for _ in range(100)]"
   ]
  },
  {
   "cell_type": "code",
   "execution_count": null,
   "metadata": {},
   "outputs": [],
   "source": [
    "from PIL import Image\n",
    "mels = np.zeros(shape=(100, 64, 64), dtype='float32')\n",
    "for i in range(100):\n",
    "    data = (labels[i] - labels[i].min()) / (labels[i].max() - labels[i].min()) * 255\n",
    "    img = Image.fromarray(data)\n",
    "    img = img.resize((64, 64)) \n",
    "    mels[i] = np.array(img) / 255 * 80\n",
    "    # store images\n",
    "    #img.convert(\"L\").save('Desktop/speech_label/final/composite/{}.png'.format(i))\n",
    "#     img.show()"
   ]
  },
  {
   "cell_type": "code",
   "execution_count": null,
   "metadata": {},
   "outputs": [],
   "source": [
    "import numpy as np\n",
    "np.save('cifar10_composite', mels[:10])\n",
    "np.save('chantel_composite', mels[:10])\n",
    "np.save('cifar100_composite', mels)"
   ]
  }
 ],
 "metadata": {
  "interpreter": {
   "hash": "aee8b7b246df8f9039afb4144a1f6fd8d2ca17a180786b69acc140d282b71a49"
  },
  "kernelspec": {
   "display_name": "Python 3.7.6 64-bit ('base': conda)",
   "language": "python",
   "name": "python3"
  },
  "language_info": {
   "codemirror_mode": {
    "name": "ipython",
    "version": 3
   },
   "file_extension": ".py",
   "mimetype": "text/x-python",
   "name": "python",
   "nbconvert_exporter": "python",
   "pygments_lexer": "ipython3",
   "version": "3.9.5"
  }
 },
 "nbformat": 4,
 "nbformat_minor": 2
}
